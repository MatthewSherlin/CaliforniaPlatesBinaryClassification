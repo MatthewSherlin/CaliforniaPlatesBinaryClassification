{
 "cells": [
  {
   "cell_type": "markdown",
   "id": "c15d5b67-dd3b-4231-b052-01e3799e5db2",
   "metadata": {},
   "source": [
    "## California License Plate Application Classifier\n",
    "Binary Classifier Model based on training set of 23,463 personalized license plate applications received by the California DMV from 2015-2016. These applications were flagged for additional review by the Review Committee. Goal is to predict whether a license plate application will be approved or denied based on the provided information."
   ]
  },
  {
   "cell_type": "markdown",
   "id": "b1bbb62e-bc45-4a86-a271-3b1878b6d7c6",
   "metadata": {},
   "source": [
    "### Preprocessing Stage\n",
    "Loading the training data and exploring the structure of the information.\n",
    "I have decided that some of the data needed cleaning (replacing the NaN items and converting type) as well as a couple of features to be engineered. I decided to add a feature to check to see if there was any inappropriate words in the items, as well as to check the word count. Word count may be arbitratry but there could be some significance with the amount of explication needed. \n",
    "\n",
    "The processing will be replicated and centralized in the implementation stage.\n"
   ]
  },
  {
   "cell_type": "code",
   "execution_count": 1,
   "id": "85e45f0c-4e48-4a22-8efe-0fa384d8854c",
   "metadata": {},
   "outputs": [
    {
     "name": "stdout",
     "output_type": "stream",
     "text": [
      "plate                          object\n",
      "review_reason_code             object\n",
      "customer_meaning               object\n",
      "reviewer_comments              object\n",
      "status                          int64\n",
      "contains_inappropriate_word     int32\n",
      "word_count                      int64\n",
      "dtype: object\n",
      "      plate review_reason_code  \\\n",
      "0   AZIZ714                  2   \n",
      "1   BATBOX1                  1   \n",
      "2    BBOMBS                  2   \n",
      "3   BEACHY1                  4   \n",
      "4  BLK PWR5                  2   \n",
      "\n",
      "                                    customer_meaning  \\\n",
      "0                                          LAST NAME   \n",
      "1  BATMOBILE (BATMAN) PLUS SHAPE OF VEHICLE (SCIO...   \n",
      "2                                 NO MICRO AVAILABLE   \n",
      "3                                     LOVE THE BEACH   \n",
      "4                                 STRENGTH OF FAMILY   \n",
      "\n",
      "            reviewer_comments  status  contains_inappropriate_word  word_count  \n",
      "0               714 AREA CODE       0                            0           3  \n",
      "1                         BOX       0                            0           1  \n",
      "2                       BOMBS       0                            1           1  \n",
      "3  BEACHY LOOKS LIKE BITCHY 1       0                            1           5  \n",
      "4                 BLACK POWER       0                            0           2  \n",
      "Shape of DataFrame after preprocessing: (23430, 7)\n"
     ]
    }
   ],
   "source": [
    "import pandas as pd\n",
    "import re\n",
    "\n",
    "# loading the dataset\n",
    "df = pd.read_csv('Downloads/applications.csv', dtype=str)\n",
    "\n",
    "# defining function terms for new feature of inappropriate words\n",
    "inappropriate_words = [\n",
    "        # curse words and inappropriate words based on examples from selection\n",
    "        # please ignore this haha\n",
    "        \"fuck\", \"shit\", \"asshole\", \"bitch\", \"bitchy\" \"bastard\", \"cunt\", \"pussy\", \"dick\", \"prick\", \"twat\",\n",
    "        \"faggot\", \"dyke\", \"chink\", \"nigger\", \"spaz\", \"retard\", \"cripple\", \"gimp\", \"gang\", \"hitler\", \n",
    "        \"nazi\", \"racist\", \"sexist\", \"homophobic\", \"transphobic\", \"misogynistic\", \"pedophile\", \"incest\", \n",
    "        \"rape\", \"murder\", \"violence\", \"bomb\", \"gun\", \"drug\", \"alcohol\", \"nigga\", \"porn\"\n",
    "    ]\n",
    "# defining function to check all of the examples and set bool\n",
    "def contains_inappropriate_word(text):\n",
    "    for word in inappropriate_words:\n",
    "        if word.lower() in text.lower():\n",
    "            return True\n",
    "    return False\n",
    "    \n",
    "# feature engineering\n",
    "df['reviewer_comments'] = df['reviewer_comments'].astype(str)\n",
    "df['contains_inappropriate_word'] = df['reviewer_comments'].apply(contains_inappropriate_word)\n",
    "df['word_count'] = df['reviewer_comments'].apply(lambda x: len(x.split()))\n",
    "\n",
    "# cleaning data so there is no NaN \n",
    "df.fillna('', inplace=True)\n",
    "\n",
    "# encoding the status in inappropriate words to int\n",
    "df = df[df['status'].isin(['N', 'Y'])]\n",
    "df['status'] = df['status'].map({'N': 0, 'Y': 1})\n",
    "df['contains_inappropriate_word'] = df['contains_inappropriate_word'].astype(int)\n",
    "\n",
    "# checking all of the data out. looks to be good!\n",
    "print(df.dtypes)\n",
    "print(df.head())\n",
    "print(f\"Shape of DataFrame after preprocessing: {df.shape}\")"
   ]
  },
  {
   "cell_type": "raw",
   "id": "c56ff037-dc36-4bdc-a401-e4f90aac97d4",
   "metadata": {},
   "source": [
    "The processing of the data looks good. All of the features are expected types and the shape of the data looks good! Pipeline will be needed to adjust entries for classification.\n",
    "\n",
    "Next, I am splitting the data to a training set and testing set. Encoding all of the features so that they can be understood by the model."
   ]
  },
  {
   "cell_type": "code",
   "execution_count": 2,
   "id": "daa1f239-27f6-4873-a173-0ff866ad58a6",
   "metadata": {},
   "outputs": [],
   "source": [
    "from sklearn.model_selection import train_test_split\n",
    "from sklearn.preprocessing import OneHotEncoder\n",
    "import numpy as np\n",
    "\n",
    "# splitting the data first and set 20% for testing \n",
    "X = df[['plate', 'review_reason_code', 'customer_meaning', 'reviewer_comments', 'word_count', 'contains_inappropriate_word']]\n",
    "y = df['status']\n",
    "X_train, X_test, y_train, y_test = train_test_split(X, y, test_size=0.2, random_state=10)\n",
    "\n",
    "# encode categorical features after splitting\n",
    "categorical_cols = ['plate', 'review_reason_code', 'customer_meaning', 'reviewer_comments']  # Decide on plate encoding\n",
    "encoder = OneHotEncoder(sparse_output=False, handle_unknown='ignore')\n",
    "X_train_encoded = encoder.fit_transform(X_train[categorical_cols])\n",
    "X_test_encoded = encoder.transform(X_test[categorical_cols])\n",
    "\n",
    "# combine encoded categorical features with non-categorical features\n",
    "X_train_encoded = np.hstack([X_train_encoded, X_train[['word_count', 'contains_inappropriate_word']].values])\n",
    "X_test_encoded = np.hstack([X_test_encoded, X_test[['word_count', 'contains_inappropriate_word']].values])\n",
    "encoded_feature_names = encoder.get_feature_names_out(categorical_cols)\n",
    "all_feature_names = np.concatenate([encoded_feature_names, ['word_count', 'contains_inappropriate_word']])\n",
    "\n",
    "# replace original categorical columns with encoded features and keep all feature names\n",
    "X_train = pd.DataFrame(X_train_encoded, columns=all_feature_names)\n",
    "X_test = pd.DataFrame(X_test_encoded, columns=all_feature_names)"
   ]
  },
  {
   "cell_type": "markdown",
   "id": "b3826c64-24eb-4313-a03d-e0695b67ce46",
   "metadata": {},
   "source": [
    "### Analysis Stage\n",
    "To begin, I wanted to test a few different models. I went with a logistic regression, random forest and a neural network. I figured that the data was a bit too simplistic for something more advanced like an advanced neural network or some pre-trained model. I figured these would overfit or perform poorly. After some testing, this seemed to be the case. I trained the data on DistillBERT and a couple other models, but got some poor results/poor performance without implementing on cloud (removed some unneccesary code prior to finishing project)."
   ]
  },
  {
   "cell_type": "code",
   "execution_count": 3,
   "id": "8b5a3e22-7770-4d39-aab8-d0190145aae1",
   "metadata": {},
   "outputs": [
    {
     "name": "stdout",
     "output_type": "stream",
     "text": [
      "Accuracy: 0.8220230473751601\n",
      "              precision    recall  f1-score   support\n",
      "\n",
      "           0       0.82      0.99      0.90      3741\n",
      "           1       0.76      0.17      0.28       945\n",
      "\n",
      "    accuracy                           0.82      4686\n",
      "   macro avg       0.79      0.58      0.59      4686\n",
      "weighted avg       0.81      0.82      0.77      4686\n",
      "\n"
     ]
    }
   ],
   "source": [
    "from sklearn.linear_model import LogisticRegression\n",
    "from sklearn.metrics import accuracy_score, classification_report\n",
    "\n",
    "# training a simple logistic regression model\n",
    "# balanced the classes because rejected plates are significantly higher than accepted\n",
    "model_lr = LogisticRegression(max_iter=1000, solver='liblinear')\n",
    "model_lr.fit(X_train, y_train)\n",
    "\n",
    "# evaluate the model\n",
    "accuracy = model_lr.score(X_test, y_test)\n",
    "print(\"Accuracy:\", accuracy)\n",
    "y_pred = model_lr.predict(X_test)\n",
    "print(classification_report(y_test, y_pred))\n"
   ]
  },
  {
   "cell_type": "markdown",
   "id": "5a4f775f-2a22-4036-9bf1-f1cac0019657",
   "metadata": {},
   "source": [
    "Accuracy of 82% is not bad after the initial logistic regression- but the recall for approved plates being only around 17% shows an issue with the data. Even after some small feature engineering, there is an issue. We will try a few other models and compare the results. Afterwards, we can work towards improvements such as balancing the approved and disapproved data sets.\n",
    "\n",
    "First, we will try RandomForest and afterwards a neural network"
   ]
  },
  {
   "cell_type": "code",
   "execution_count": 4,
   "id": "91e8eef7-e759-4057-a54c-8330541d43c8",
   "metadata": {},
   "outputs": [
    {
     "name": "stdout",
     "output_type": "stream",
     "text": [
      "Accuracy: 0.8215962441314554\n",
      "              precision    recall  f1-score   support\n",
      "\n",
      "           0       0.82      0.99      0.90      3741\n",
      "           1       0.80      0.15      0.26       945\n",
      "\n",
      "    accuracy                           0.82      4686\n",
      "   macro avg       0.81      0.57      0.58      4686\n",
      "weighted avg       0.82      0.82      0.77      4686\n",
      "\n"
     ]
    }
   ],
   "source": [
    "from sklearn.ensemble import RandomForestClassifier\n",
    "import numpy as np\n",
    "\n",
    "model_rfc = RandomForestClassifier(n_estimators=25, max_features='log2', random_state=42, n_jobs=-1)\n",
    "model_rfc.fit(X_train, y_train)\n",
    "\n",
    "# evaluate the model\n",
    "accuracy = model_rfc.score(X_test, y_test)\n",
    "print(\"Accuracy:\", accuracy)\n",
    "y_pred = model_rfc.predict(X_test)\n",
    "print(classification_report(y_test, y_pred))"
   ]
  },
  {
   "cell_type": "markdown",
   "id": "37d4870c-c786-4d6c-920e-2edd938a9585",
   "metadata": {},
   "source": [
    "The results are similar to the logistic regression, but the recall is even lower for approved plates. Going to test with the neural network to see the performance, but definitely need to work on the data."
   ]
  },
  {
   "cell_type": "code",
   "execution_count": 5,
   "id": "314fa5a9-c12e-41e7-b3f6-dcec319f414d",
   "metadata": {},
   "outputs": [
    {
     "name": "stdout",
     "output_type": "stream",
     "text": [
      "Epoch 1/10\n",
      "\u001b[1m586/586\u001b[0m \u001b[32m━━━━━━━━━━━━━━━━━━━━\u001b[0m\u001b[37m\u001b[0m \u001b[1m11s\u001b[0m 15ms/step - loss: 0.5252 - val_loss: 0.4488\n",
      "Epoch 2/10\n",
      "\u001b[1m586/586\u001b[0m \u001b[32m━━━━━━━━━━━━━━━━━━━━\u001b[0m\u001b[37m\u001b[0m \u001b[1m6s\u001b[0m 10ms/step - loss: 0.2649 - val_loss: 0.5386\n",
      "Epoch 3/10\n",
      "\u001b[1m586/586\u001b[0m \u001b[32m━━━━━━━━━━━━━━━━━━━━\u001b[0m\u001b[37m\u001b[0m \u001b[1m6s\u001b[0m 10ms/step - loss: 0.0180 - val_loss: 0.5429\n",
      "Epoch 4/10\n",
      "\u001b[1m586/586\u001b[0m \u001b[32m━━━━━━━━━━━━━━━━━━━━\u001b[0m\u001b[37m\u001b[0m \u001b[1m6s\u001b[0m 11ms/step - loss: 0.0027 - val_loss: 0.5691\n",
      "Epoch 5/10\n",
      "\u001b[1m586/586\u001b[0m \u001b[32m━━━━━━━━━━━━━━━━━━━━\u001b[0m\u001b[37m\u001b[0m \u001b[1m6s\u001b[0m 11ms/step - loss: 0.0011 - val_loss: 0.5575\n",
      "Epoch 6/10\n",
      "\u001b[1m586/586\u001b[0m \u001b[32m━━━━━━━━━━━━━━━━━━━━\u001b[0m\u001b[37m\u001b[0m \u001b[1m6s\u001b[0m 11ms/step - loss: 5.6813e-04 - val_loss: 0.5759\n",
      "Epoch 7/10\n",
      "\u001b[1m586/586\u001b[0m \u001b[32m━━━━━━━━━━━━━━━━━━━━\u001b[0m\u001b[37m\u001b[0m \u001b[1m6s\u001b[0m 11ms/step - loss: 0.0020 - val_loss: 0.6767\n",
      "Epoch 8/10\n",
      "\u001b[1m586/586\u001b[0m \u001b[32m━━━━━━━━━━━━━━━━━━━━\u001b[0m\u001b[37m\u001b[0m \u001b[1m6s\u001b[0m 11ms/step - loss: 0.0010 - val_loss: 0.8259\n",
      "Epoch 9/10\n",
      "\u001b[1m586/586\u001b[0m \u001b[32m━━━━━━━━━━━━━━━━━━━━\u001b[0m\u001b[37m\u001b[0m \u001b[1m6s\u001b[0m 11ms/step - loss: 2.7583e-04 - val_loss: 0.6249\n",
      "Epoch 10/10\n",
      "\u001b[1m586/586\u001b[0m \u001b[32m━━━━━━━━━━━━━━━━━━━━\u001b[0m\u001b[37m\u001b[0m \u001b[1m6s\u001b[0m 11ms/step - loss: 0.0062 - val_loss: 0.7019\n",
      "\u001b[1m147/147\u001b[0m \u001b[32m━━━━━━━━━━━━━━━━━━━━\u001b[0m\u001b[37m\u001b[0m \u001b[1m0s\u001b[0m 2ms/step\n",
      "Accuracy: 0.6880068288518992\n",
      "              precision    recall  f1-score   support\n",
      "\n",
      "           0       0.86      0.72      0.79      3741\n",
      "           1       0.33      0.54      0.41       945\n",
      "\n",
      "    accuracy                           0.69      4686\n",
      "   macro avg       0.60      0.63      0.60      4686\n",
      "weighted avg       0.76      0.69      0.71      4686\n",
      "\n"
     ]
    }
   ],
   "source": [
    "import tensorflow as tf\n",
    "from tensorflow.keras import Sequential\n",
    "from tensorflow.keras.layers import Dense, Dropout\n",
    "from sklearn.metrics import classification_report, accuracy_score\n",
    "\n",
    "model_nn = tf.keras.models.Sequential([\n",
    "tf.keras.layers.InputLayer(shape=(X_train.shape[1],)),\n",
    "    tf.keras.layers.Dense(32, activation='relu'),\n",
    "    tf.keras.layers.Dense(16, activation='relu'),\n",
    "    tf.keras.layers.Dense(1, activation='sigmoid')\n",
    "])\n",
    "\n",
    "model_nn.compile(optimizer='adam', loss='binary_crossentropy')\n",
    "\n",
    "# training\n",
    "history = model_nn.fit(X_train, y_train, epochs=10, batch_size=32, validation_data=(X_test, y_test))\n",
    "\n",
    "# evaluate the model\n",
    "y_pred_probs = model_nn.predict(X_test)\n",
    "y_pred_classes = (y_pred_probs > 0.5).astype(int)\n",
    "accuracy = accuracy_score(y_test, y_pred_classes)\n",
    "print(f\"Accuracy: {accuracy}\")\n",
    "print(classification_report(y_test, y_pred_classes))\n"
   ]
  },
  {
   "cell_type": "code",
   "execution_count": 6,
   "id": "1565cb66-9c76-4da5-a5cb-730f3f767ab3",
   "metadata": {},
   "outputs": [
    {
     "data": {
      "image/png": "[encoded data removed]",
      "text/plain": [
       "<Figure size 1000x500 with 1 Axes>"
      ]
     },
     "metadata": {},
     "output_type": "display_data"
    }
   ],
   "source": [
    "from sklearn.metrics import f1_score\n",
    "import matplotlib.pyplot as plt\n",
    "\n",
    "# define models and their performance metrics\n",
    "models = ['Logistic Regression', 'Random Forest', 'Neural Network'] \n",
    "accuracies = [0.82, 0.81, 0.54] #estimated accuracies based off prior runs\n",
    "f1_scores = [0.77, 0.76, 0.58] #likewise \n",
    "performance_df = pd.DataFrame({\n",
    "    'Model': models,\n",
    "    'Accuracy': accuracies,\n",
    "    'F1 Score': f1_scores\n",
    "})\n",
    "\n",
    "# plotting\n",
    "performance_df.set_index('Model').plot(kind='bar', figsize=(10, 5))\n",
    "plt.title('Model Performance Comparison')\n",
    "plt.ylabel('Score')\n",
    "plt.xticks(rotation=0)\n",
    "plt.show()\n"
   ]
  },
  {
   "cell_type": "markdown",
   "id": "7362647b-ad20-4332-bb84-3ce8ac8c82a5",
   "metadata": {},
   "source": [
    "Given that we have a relatively small feature set and simplistic data, the NN seems like it is overfitting/performing unusually, it’s worth going with the simpler models. This should help get more realistic and reliable results.\n",
    "\n",
    "After running both of these models, it seems that the recall for approved is quite low on both. The logistic regression performed a bit better on the data, and the use-case is best for this data in my opinion. I plan on making synthetic approved plates to help balance out the data set and then I will continue to work with the logistic regression.\n",
    "\n",
    "Using SMOTE (Synthetic Minority Over-sampling Technique) is designed to create synthetic samples for the minority class to balance the class distribution. The minority class being the approved plates. I am using a cleaning method, Tomek Links, to help remove noisy samples and reduce overfitting."
   ]
  },
  {
   "cell_type": "code",
   "execution_count": 7,
   "id": "80e2edb6-e4b5-4792-afab-1395c58da729",
   "metadata": {},
   "outputs": [
    {
     "name": "stdout",
     "output_type": "stream",
     "text": [
      "Original dataset shape: Counter({0: 15016, 1: 3728})\n",
      "Resampled dataset shape: Counter({0: 15007, 1: 15007})\n"
     ]
    }
   ],
   "source": [
    "from imblearn.over_sampling import SMOTE\n",
    "from imblearn.combine import SMOTETomek\n",
    "from collections import Counter\n",
    "\n",
    "# initialize SMOTEtomek\n",
    "smote_tomek = SMOTETomek(smote=SMOTE(random_state=42, k_neighbors=2))\n",
    "\n",
    "# fit and resample the data with \n",
    "X_resampled, y_resampled = smote_tomek.fit_resample(X_train, y_train)\n",
    "\n",
    "# checking shape of both\n",
    "print(\"Original dataset shape:\", Counter(y_train))\n",
    "print(\"Resampled dataset shape:\", Counter(y_resampled))\n"
   ]
  },
  {
   "cell_type": "markdown",
   "id": "a0e21f7d-65de-441c-8a24-706003e1ad9b",
   "metadata": {},
   "source": [
    "Since Logistic Regression performed slightly better, let's try to run it with our resampled dataset"
   ]
  },
  {
   "cell_type": "code",
   "execution_count": 8,
   "id": "27422688-27cf-4bde-aa87-19dc17c20d98",
   "metadata": {},
   "outputs": [
    {
     "name": "stdout",
     "output_type": "stream",
     "text": [
      "Accuracy: 0.9270364817591205\n",
      "              precision    recall  f1-score   support\n",
      "\n",
      "           0       0.91      0.95      0.93      3020\n",
      "           1       0.94      0.91      0.93      2983\n",
      "\n",
      "    accuracy                           0.93      6003\n",
      "   macro avg       0.93      0.93      0.93      6003\n",
      "weighted avg       0.93      0.93      0.93      6003\n",
      "\n"
     ]
    }
   ],
   "source": [
    "# training a simple logistic regression model with new dataset\n",
    "from sklearn.model_selection import cross_val_score\n",
    "from sklearn.linear_model import LogisticRegression\n",
    "\n",
    "# splitting the resampled dataset \n",
    "X_train_resampled, X_test, y_train_resampled, y_test = train_test_split(X_resampled, y_resampled, test_size=0.2, random_state=42)\n",
    "\n",
    "model_lr_2 = LogisticRegression(max_iter=1000, solver='liblinear') #liblinear supports L2 regularization by default\n",
    "model_lr_2.fit(X_train_resampled, y_train_resampled)\n",
    "\n",
    "# evaluate the model\n",
    "accuracy = model_lr_2.score(X_test, y_test)\n",
    "print(\"Accuracy:\", accuracy)\n",
    "y_pred = model_lr_2.predict(X_test)\n",
    "print(classification_report(y_test, y_pred))\n"
   ]
  },
  {
   "cell_type": "code",
   "execution_count": 9,
   "id": "d981b3db-698c-4f19-9ce3-811e1b069e8d",
   "metadata": {},
   "outputs": [
    {
     "data": {
      "image/png": "[encoded data removed]",
      "text/plain": [
       "<Figure size 640x480 with 1 Axes>"
      ]
     },
     "metadata": {},
     "output_type": "display_data"
    }
   ],
   "source": [
    "import matplotlib.pyplot as plt\n",
    "import pandas as pd\n",
    "from sklearn.metrics import (\n",
    "    confusion_matrix,\n",
    "    ConfusionMatrixDisplay,\n",
    "    roc_curve,\n",
    "    auc,\n",
    "    precision_recall_curve,\n",
    "    classification_report\n",
    ")\n",
    "\n",
    "# defining plot for roc\n",
    "def plot_roc_curve(y_test, y_pred_proba):\n",
    "    fpr, tpr, _ = roc_curve(y_test, y_pred_proba)\n",
    "    roc_auc = auc(fpr, tpr)\n",
    "\n",
    "    plt.figure()\n",
    "    plt.plot(fpr, tpr, color='blue', label=f'ROC curve (AUC = {roc_auc:.2f})')\n",
    "    plt.plot([0, 1], [0, 1], color='red', linestyle='--')  # Diagonal line\n",
    "    plt.xlim([0.0, 1.0])\n",
    "    plt.ylim([0.0, 1.05])\n",
    "    plt.xlabel('False Positive Rate')\n",
    "    plt.ylabel('True Positive Rate')\n",
    "    plt.title('Receiver Operating Characteristic')\n",
    "    plt.legend(loc='lower right')\n",
    "    plt.show()\n",
    "\n",
    "# Get predicted probabilities\n",
    "y_pred_proba = model_lr_2.predict_proba(X_test)[:, 1]  # Probability of the positive class\n",
    "plot_roc_curve(y_test, y_pred_proba)\n"
   ]
  },
  {
   "cell_type": "markdown",
   "id": "c5355700-6ae0-4e7b-ba16-d9861bbf5b6c",
   "metadata": {},
   "source": [
    "The AUC score quantifies the ability of the model to discriminate between the approved and disapproved classes. An AUC of 0.97 indicates excellent performance- it shows that the model is highly effective in distinguishing between the two classes. It’s important to consider other metrics like the f1-score and accuracy score which are both quite good for this model as well."
   ]
  },
  {
   "cell_type": "markdown",
   "id": "ca537f19-99af-4950-b676-7089361fd19e",
   "metadata": {},
   "source": [
    "The results are much better than before. There could be more tinkering to get the accuracy higher but over 91% and decent recall is decent performance. \n",
    "Since the precision and recall for both classes are high, the model seems to handle both classes well. The level i accuracy and the balance of precision and recall suggest that overfitting might not be a huge issue. "
   ]
  },
  {
   "cell_type": "code",
   "execution_count": 10,
   "id": "23adcde3-58d2-40b7-b5d2-a30bdbad0a93",
   "metadata": {},
   "outputs": [
    {
     "name": "stdout",
     "output_type": "stream",
     "text": [
      "Finished sparse matrix\n",
      "Cross-Validation Accuracy Scores: [0.91880075 0.91753436 0.91732611 0.91795085 0.91732611]\n",
      "Mean CV Accuracy: 0.9177876384527476\n",
      "Standard Deviation of CV Accuracy: 0.0005555524027143167\n"
     ]
    },
    {
     "data": {
      "image/png": "[encoded data removed]",
      "text/plain": [
       "<Figure size 1000x600 with 1 Axes>"
      ]
     },
     "metadata": {},
     "output_type": "display_data"
    }
   ],
   "source": [
    "from sklearn.model_selection import cross_val_score\n",
    "from scipy import sparse\n",
    "\n",
    "# convert the resampled dataset to a sparse matrix to save memory\n",
    "X_resampled_sparse = sparse.csr_matrix(X_train_resampled)\n",
    "\n",
    "print(\"Finished sparse matrix\")\n",
    "\n",
    "# perform 5-fold cross-validation\n",
    "cv_scores = cross_val_score(model_lr_2, X_resampled_sparse, y_train_resampled, cv=5, scoring='accuracy', n_jobs=1)\n",
    "\n",
    "# print the results\n",
    "print(f\"Cross-Validation Accuracy Scores: {cv_scores}\")\n",
    "print(f\"Mean CV Accuracy: {cv_scores.mean()}\")\n",
    "print(f\"Standard Deviation of CV Accuracy: {cv_scores.std()}\")\n",
    "\n",
    "# plotting the cvv scores\n",
    "plt.figure(figsize=(10, 6))\n",
    "plt.bar(range(1, 6), cv_scores, color='skyblue', alpha=0.7, label='Fold Accuracy')\n",
    "plt.axhline(y=cv_scores.mean(), color='r', linestyle='--', label='Mean Accuracy')\n",
    "plt.fill_between(range(1, 6), cv_scores.mean() - cv_scores.std(), cv_scores.mean() + cv_scores.std(), color='gray', alpha=0.2, label='Standard Deviation')\n",
    "\n",
    "# adding labels\n",
    "plt.title('Cross-Validation Accuracy Scores', fontsize=16)\n",
    "plt.xlabel('Fold', fontsize=14)\n",
    "plt.ylabel('Accuracy Score', fontsize=14)\n",
    "plt.xticks(range(1, 6), [f'Fold {i}' for i in range(1, 6)], fontsize=12)\n",
    "plt.ylim(0, 1)  # Set the y-axis limit to 0-1 for accuracy\n",
    "plt.legend()\n",
    "plt.grid(axis='y', linestyle='--', alpha=0.7)\n",
    "\n",
    "plt.tight_layout()\n",
    "plt.show()"
   ]
  },
  {
   "cell_type": "markdown",
   "id": "bc224d28-b43d-4e05-b5a6-b5142fd8b79b",
   "metadata": {},
   "source": [
    "These are the accuracy scores obtained from 5 different cross-validation folds. Cross-validation splits the data into 5 folds, where the model is trained on 4 folds and tested on the remaining fold. This process is repeated 5 times with a different fold held out each time for testing.\n",
    "The results show that the model is consistently performing well across different splits of your data. \n",
    "\n",
    "The standard deviation shows how much the accuracy varies between the different folds. The standard deviation is very low which shows that the model's performance is consistent across different folds of the data. The model definitely has room for improvement by doing some more fine-tuning, more feature enhancing, ect. For this case, I think the performance is solid and the ideas and thought process has been written out and explained well. I will move on to the implementation of this model for predicting new plates approval."
   ]
  },
  {
   "cell_type": "markdown",
   "id": "7d426409-5b13-4a1e-906c-8e2b59f086c8",
   "metadata": {},
   "source": [
    "### Implementation Stage\n",
    "\n",
    "Based on the first two stages of the project, I decided to go with a logistic regression model for the binary classification trained on a SMOTE synthetic data set along with a couple of engineered features added to strengthen the data. I will go ahead and create the entire pipeline for the data to be processed within the prediction function and run some testing on it and study the results.\n",
    "\n",
    "Below will be the entire pipeline, re-encoding data and training the model."
   ]
  },
  {
   "cell_type": "code",
   "execution_count": 11,
   "id": "b59d4a00-df8b-4540-9f9b-ed75a1def50f",
   "metadata": {},
   "outputs": [
    {
     "name": "stdout",
     "output_type": "stream",
     "text": [
      "Finished pre-processing\n"
     ]
    }
   ],
   "source": [
    "import re\n",
    "import pandas as pd\n",
    "from sklearn.preprocessing import OneHotEncoder\n",
    "from sklearn.linear_model import LogisticRegression\n",
    "from sklearn.model_selection import train_test_split\n",
    "from imblearn.over_sampling import SMOTE\n",
    "from imblearn.combine import SMOTETomek\n",
    "import numpy as np\n",
    "\n",
    "####################################\n",
    "# Load and prepare training data \n",
    "####################################\n",
    "\n",
    "df = pd.read_csv('Downloads/applications.csv', dtype=str)\n",
    "\n",
    "# defining function terms for new feature of inappropriate words\n",
    "# pls ignore\n",
    "inappropriate_words = [\n",
    "    \"fuck\", \"shit\", \"asshole\", \"bitch\", \"bitchy\", \"bastard\", \"cunt\", \"pussy\", \"dick\", \"prick\", \"twat\",\n",
    "    \"faggot\", \"dyke\", \"chink\", \"nigger\", \"spaz\", \"retard\", \"cripple\", \"gimp\", \"gang\", \"hitler\", \n",
    "    \"nazi\", \"racist\", \"sexist\", \"homophobic\", \"transphobic\", \"misogynistic\", \"pedophile\", \"incest\", \n",
    "    \"rape\", \"murder\", \"violence\", \"bomb\", \"gun\", \"drug\", \"alcohol\", \"nigga\", \"porn\"\n",
    "]\n",
    "\n",
    "# defining function to check all of the examples and set bool\n",
    "def contains_inappropriate_word(text):\n",
    "    for word in inappropriate_words:\n",
    "        if word.lower() in text.lower():\n",
    "            return 1\n",
    "    return 0\n",
    "\n",
    "# feature engineering\n",
    "df['reviewer_comments'] = df['reviewer_comments'].astype(str)\n",
    "df['contains_inappropriate_word'] = df['reviewer_comments'].apply(contains_inappropriate_word)\n",
    "df['word_count'] = df['reviewer_comments'].apply(lambda x: len(x.split()))\n",
    "\n",
    "# cleaning data so there are no NaN \n",
    "df.fillna('', inplace=True)\n",
    "\n",
    "# encoding the status in inappropriate words to int\n",
    "df = df[df['status'].isin(['N', 'Y'])]\n",
    "df['status'] = df['status'].map({'N': 0, 'Y': 1})\n",
    "\n",
    "# split the data first and set 20% for testing \n",
    "X = df[['plate', 'review_reason_code', 'customer_meaning', 'reviewer_comments', 'word_count', 'contains_inappropriate_word']]\n",
    "y = df['status']\n",
    "X_train, X_test, y_train, y_test = train_test_split(X, y, test_size=0.2, random_state=10)\n",
    "\n",
    "# encode categorical features after splitting\n",
    "categorical_cols = ['plate', 'review_reason_code', 'customer_meaning', 'reviewer_comments']  # Decide on plate encoding\n",
    "encoder_final = OneHotEncoder(sparse_output=False, handle_unknown='ignore')\n",
    "X_train_encoded = encoder_final.fit_transform(X_train[categorical_cols])\n",
    "X_test_encoded = encoder_final.transform(X_test[categorical_cols])\n",
    "\n",
    "# combine features\n",
    "X_train_encoded = np.hstack([X_train_encoded, X_train[['word_count', 'contains_inappropriate_word']].values])\n",
    "X_test_encoded = np.hstack([X_test_encoded, X_test[['word_count', 'contains_inappropriate_word']].values])\n",
    "encoded_feature_names = encoder_final.get_feature_names_out(categorical_cols)\n",
    "all_feature_names = np.concatenate([encoded_feature_names, ['word_count', 'contains_inappropriate_word']])\n",
    "\n",
    "# replace original categorical columns with encoded features and keep all feature names\n",
    "X_train = pd.DataFrame(X_train_encoded, columns=all_feature_names)\n",
    "X_test = pd.DataFrame(X_test_encoded, columns=all_feature_names)\n",
    "\n",
    "# initialize SMOTEtomek and fit and resample the data\n",
    "smote_tomek = SMOTETomek(smote=SMOTE(random_state=42, k_neighbors=2))\n",
    "X_resampled, y_resampled = smote_tomek.fit_resample(X_train, y_train)\n",
    "\n",
    "# splitting the resampled dataset \n",
    "X_train_resampled, X_test, y_train_resampled, y_test = train_test_split(X_resampled, y_resampled, test_size=0.2, random_state=42)\n",
    "final_model = LogisticRegression(max_iter=1000, solver='liblinear') # liblinear supports L2 regularization by default\n",
    "final_model.fit(X_train_resampled, y_train_resampled)\n",
    "\n",
    "print(\"Finished pre-processing\")"
   ]
  },
  {
   "cell_type": "code",
   "execution_count": 12,
   "id": "e04bff43-b434-465b-88e1-d0fb986b42e8",
   "metadata": {
    "scrolled": true
   },
   "outputs": [
    {
     "name": "stdout",
     "output_type": "stream",
     "text": [
      "Prediction Probabilities: [[0.44105944 0.55894056]]\n",
      "Prediction: Approved\n"
     ]
    },
    {
     "name": "stderr",
     "output_type": "stream",
     "text": [
      "C:\\Users\\Matthew Sherlin\\anaconda3\\Lib\\site-packages\\sklearn\\base.py:439: UserWarning: X does not have valid feature names, but LogisticRegression was fitted with feature names\n",
      "  warnings.warn(\n",
      "C:\\Users\\Matthew Sherlin\\anaconda3\\Lib\\site-packages\\sklearn\\base.py:439: UserWarning: X does not have valid feature names, but LogisticRegression was fitted with feature names\n",
      "  warnings.warn(\n"
     ]
    }
   ],
   "source": [
    "import re\n",
    "import pandas as pd\n",
    "from sklearn.preprocessing import OneHotEncoder\n",
    "from sklearn.linear_model import LogisticRegression\n",
    "from sklearn.model_selection import train_test_split\n",
    "from imblearn.over_sampling import SMOTE\n",
    "from imblearn.combine import SMOTETomek\n",
    "import numpy as np\n",
    "\n",
    "####################################\n",
    "# Define the prediction function\n",
    "####################################\n",
    "def model_predict(plate: str, review_reason_code: str, customer_meaning: str, reviewer_comments: str) -> bool:\n",
    "\n",
    "    input_data = pd.DataFrame({\n",
    "        'plate': [str(plate)],\n",
    "        'review_reason_code': [str(review_reason_code)],  \n",
    "        'customer_meaning': [str(customer_meaning)],      \n",
    "        'reviewer_comments': [str(reviewer_comments)],    \n",
    "        'word_count': [len(reviewer_comments.split())],   \n",
    "        'contains_inappropriate_word': [contains_inappropriate_word(reviewer_comments)]\n",
    "    })\n",
    "\n",
    "    input_data.fillna('', inplace=True)\n",
    "    \n",
    "    # handle categorical encoding\n",
    "    categorical_cols = ['plate', 'review_reason_code', 'customer_meaning', 'reviewer_comments']\n",
    "    encoded_features = encoder_final.transform(input_data[categorical_cols])    \n",
    "    combined_features = np.hstack([encoded_features, input_data[['word_count', 'contains_inappropriate_word']].values])\n",
    "\n",
    "    # make the prediction\n",
    "    prediction = final_model.predict(combined_features)\n",
    "    prediction_proba = final_model.predict_proba(combined_features)\n",
    "    \n",
    "    # show the probabilities 0 vs 1\n",
    "    print(f\"Prediction Probabilities: {prediction_proba}\")\n",
    "    return bool(prediction[0])\n",
    "\n",
    "# testing the function with some example inputs\n",
    "result = model_predict(\"LDYNBLU\", \"3\", \"NO MICRO\", \"LADY IN BLUE. GANG COLORS?\") #approved even with \"gang\" in the reviewer comments\n",
    "print(f\"Prediction: {'Approved' if result else 'Denied'}\")\n"
   ]
  },
  {
   "cell_type": "markdown",
   "id": "95cba517-3622-4d54-af36-80c7c59315f5",
   "metadata": {},
   "source": [
    "### Final Thoughts\n",
    "Overall, the implementation shows promise with a solid foundation, some feature engineering and data handling. The model works quite well with examples from the test set that I have checked through the the final prediction function. I have noticed that there is some denied predictions to manual data entries that I created which I assumed would be approved. This could be due to some overfitting or some other issue in the model. Addressing the limitations around model performance, data quality, and complexity could definitely enhance its effectiveness. Continuous evaluation and improvement through iterative testing and refinement would lead to better predictions for sure.\n",
    "\n",
    "Overall this project was quite enjoyable. It was time consuming to locally run all of the models and try many different techniques, but I really enjoyed getting through it.\n"
   ]
  }
 ],
 "metadata": {
  "kernelspec": {
   "display_name": "Python 3 (ipykernel)",
   "language": "python",
   "name": "python3"
  },
  "language_info": {
   "codemirror_mode": {
    "name": "ipython",
    "version": 3
   },
   "file_extension": ".py",
   "mimetype": "text/x-python",
   "name": "python",
   "nbconvert_exporter": "python",
   "pygments_lexer": "ipython3",
   "version": "3.11.7"
  }
 },
 "nbformat": 4,
 "nbformat_minor": 5
}
